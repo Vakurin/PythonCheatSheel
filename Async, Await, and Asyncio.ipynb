{
 "cells": [
  {
   "cell_type": "markdown",
   "metadata": {},
   "source": [
    "## Async, Await, and Asyncio\n",
    "___"
   ]
  },
  {
   "cell_type": "markdown",
   "metadata": {},
   "source": [
    "###  Synchronous Code\n",
    "---\n",
    "* Is what you're used to! (к чему вы привыкли!)\n",
    "* Runs functions one after another"
   ]
  },
  {
   "cell_type": "code",
   "execution_count": 9,
   "metadata": {},
   "outputs": [
    {
     "name": "stdout",
     "output_type": "stream",
     "text": [
      "Highest prime below 10000000\n",
      "→ Highest prime below 10000000 is 9999991\n",
      "Highest prime below 1000000\n",
      "→ Highest prime below 1000000 is 999983\n",
      "Highest prime below 100000\n",
      "→ Highest prime below 100000 is 99991\n",
      "Took 10503.37 ms\n"
     ]
    }
   ],
   "source": [
    "##It's code \n",
    "import time\n",
    "\n",
    "def is_prime(x):\n",
    "    \n",
    "    return not any(x//i == x/i for i in range(x-1, 1, -1))\n",
    "\n",
    "\n",
    "def highest_prime_below(x):\n",
    "    \n",
    "    print('Highest prime below %d' % x)\n",
    "    for y in range(x-1, 0, -1):\n",
    "        if is_prime(y):\n",
    "            print('→ Highest prime below %d is %d' % (x, y))\n",
    "            return y\n",
    "        time.sleep(0.01)\n",
    "    return None\n",
    "\n",
    "\n",
    "def main():\n",
    "    \n",
    "    t0 = time.time()\n",
    "    highest_prime_below(10_000_000)\n",
    "    highest_prime_below(1_000_000)\n",
    "    highest_prime_below(100_000)\n",
    "    t1 = time.time()\n",
    "    print('Took %.2f ms' % (1000*(t1-t0)))\n",
    "\n",
    "main()"
   ]
  },
  {
   "cell_type": "markdown",
   "metadata": {},
   "source": [
    "### Asynchronous code:\n",
    "___\n",
    "**Runs multiple functions seemingly(кажущихся) in parallel:**\n",
    "* In a single process\n",
    "* Without threads\n",
    "\n",
    "**Should not use blocking functions!**\n",
    "* No time.sleep()\n",
    "* No socket.*\n",
    "* asyncio provides non-blocking alternatives for many of these functions"
   ]
  },
  {
   "cell_type": "markdown",
   "metadata": {},
   "source": [
    "### A note on Python versions\n",
    "* The async and await keywords were introduced in Python 3.5\n",
    "* They are syntactic sugar on top of the asyncio module that was introduced in Python 3.4\n",
    "* Python 3.3 and earlier do not support this"
   ]
  },
  {
   "cell_type": "code",
   "execution_count": 10,
   "metadata": {},
   "outputs": [
    {
     "name": "stdout",
     "output_type": "stream",
     "text": [
      "Highest prime below 10000000\n",
      "Highest prime below 1000000\n",
      "Highest prime below 100000\n",
      "→ Highest prime below 10000000 is 9999991\n",
      "→ Highest prime below 100000 is 99991\n",
      "→ Highest prime below 1000000 is 999983\n",
      "Took 9570.96 ms\n"
     ]
    }
   ],
   "source": [
    "import time\n",
    "import asyncio\n",
    "\n",
    "\n",
    "def is_prime(x):\n",
    "    \n",
    "    return not any(x//i == x/i for i in range(x-1, 1, -1))\n",
    "\n",
    "\n",
    "async def highest_prime_below(x):\n",
    "    \n",
    "    print('Highest prime below %d' % x)\n",
    "    for y in range(x-1, 0, -1):\n",
    "        if is_prime(y):\n",
    "            print('→ Highest prime below %d is %d' % (x, y))\n",
    "            return y\n",
    "        await asyncio.sleep(0.01)\n",
    "    return None\n",
    "\n",
    "\n",
    "async def main():\n",
    "    \n",
    "    t0 = time.time()\n",
    "    await asyncio.wait( [\n",
    "        highest_prime_below(10_000_000),\n",
    "        highest_prime_below(1_000_000),\n",
    "        highest_prime_below(100_000)\n",
    "        ] )\n",
    "    t1 = time.time()\n",
    "    print('Took %.2f ms' % (1000*(t1-t0)))\n",
    "    \n",
    "    \n",
    "loop = asyncio.get_event_loop()\n",
    "loop.run_until_complete(main())\n",
    "#Don't need in Jupyter, but in other compiler it's necessarily\n",
    "#loop.close()"
   ]
  }
 ],
 "metadata": {
  "kernelspec": {
   "display_name": "Python 3",
   "language": "python",
   "name": "python3"
  },
  "language_info": {
   "codemirror_mode": {
    "name": "ipython",
    "version": 3
   },
   "file_extension": ".py",
   "mimetype": "text/x-python",
   "name": "python",
   "nbconvert_exporter": "python",
   "pygments_lexer": "ipython3",
   "version": "3.6.4"
  }
 },
 "nbformat": 4,
 "nbformat_minor": 2
}
